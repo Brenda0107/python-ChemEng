{
 "cells": [
  {
   "cell_type": "markdown",
   "metadata": {},
   "source": [
    "## Solución de ecuaciones diferenciales de primer orden por integración\n",
    "\n",
    "### Ecuaciones diferenciales homogéneas de primer orden\n",
    "\n",
    "Consideremos una ecuación diferencial homogénea de primer orden:\n",
    "\n",
    "$y' + p(x) y = 0$, con $y(a) = b$ como valor inicial.\n",
    "\n",
    "La solución a esta ecuación diferencial es:\n",
    "\n",
    "$y(x) = b e^{-\\int_a^x p(\\xi) d\\xi}$\n",
    "\n",
    "Sea  $(x+2) y' - xy = 0$, con $y(0) = 3$\n",
    "\n",
    "¿Cuál es el valor de $y(1)$?\n",
    "\n",
    "Debemos despejar para poder identificar $p(x)$. Que tiene la forma:\n",
    "\n",
    "$y' + \\frac{-x}{x+2}y = 0$.\n",
    "\n",
    "Ahora simplemente evaluamos la integral y la ocupamos para obtener el valor de la solución evaluada en el nuevo valor de $x$."
   ]
  },
  {
   "cell_type": "code",
   "execution_count": null,
   "metadata": {},
   "outputs": [],
   "source": []
  },
  {
   "cell_type": "markdown",
   "metadata": {},
   "source": [
    "Ahora el objetivo será evaluar la integral para diferentes valores de $x$, dado que **quad** no acepta un array debemos de realizar la evaluación de integrales dentro de un ciclo for, esto será muy sencillo. Resolveremos la integral y guardaremos el resultado en un array. \n",
    "\n",
    "Antes de empezar veamos algunas funciones que nos serán de ayuda:\n",
    "\n",
    "\n",
    "Primero debemos crear la variable donde vamos a almacenar nuestros resultados"
   ]
  },
  {
   "cell_type": "code",
   "execution_count": null,
   "metadata": {},
   "outputs": [],
   "source": []
  },
  {
   "cell_type": "code",
   "execution_count": null,
   "metadata": {},
   "outputs": [],
   "source": []
  },
  {
   "cell_type": "markdown",
   "metadata": {},
   "source": [
    "Para crear nuestra variable de resultados lo haremos a partir de la serie de valores de $x$ que queremos evaluar:"
   ]
  },
  {
   "cell_type": "code",
   "execution_count": null,
   "metadata": {},
   "outputs": [],
   "source": []
  },
  {
   "cell_type": "markdown",
   "metadata": {},
   "source": [
    "¿Cómo podemos construir nuestro ciclo for?\n",
    "\n",
    "Tenemos varias formas, veamos dos muy sencillas\n",
    "\n",
    "- range()\n",
    "- enumerate()\n",
    "\n",
    "Forma tradicional: (con range)"
   ]
  },
  {
   "cell_type": "code",
   "execution_count": null,
   "metadata": {},
   "outputs": [],
   "source": []
  },
  {
   "cell_type": "markdown",
   "metadata": {},
   "source": [
    "Esta muy bien pero python ya nos provee de una función que incluye un contador. Podemos usar esta función siempre que tengamos alguna variable iterable, ejemplo:"
   ]
  },
  {
   "cell_type": "code",
   "execution_count": null,
   "metadata": {},
   "outputs": [],
   "source": []
  },
  {
   "cell_type": "markdown",
   "metadata": {},
   "source": [
    "Esta función nos permite trabajar con el índice y el valor del elemento en la iteración actual y así poder realizar operaciones.\n",
    "\n",
    "Veamos todo junto trabajando dentro de un for:"
   ]
  },
  {
   "cell_type": "code",
   "execution_count": null,
   "metadata": {},
   "outputs": [],
   "source": []
  },
  {
   "cell_type": "markdown",
   "metadata": {},
   "source": [
    "De vuelta en la solución de nuestro problema, el objetivo es realizar la integral sobre una serie de valores de $x$, iteraremos sobre esta serie de valores, para cada valor evaluaremos la integral y guardaremos la solución en un nuevo arreglo:]"
   ]
  },
  {
   "cell_type": "code",
   "execution_count": null,
   "metadata": {},
   "outputs": [],
   "source": []
  },
  {
   "cell_type": "markdown",
   "metadata": {},
   "source": [
    "¿Cómo comprobar que nuestra solución es correcta?\n",
    "\n",
    "Si! derivando, pero numéricamente. Conocemos la solución analítica de la ecuación diferencial: $y' = \\frac{x}{x+2}y$. Concluimos que siempre será positiva, tanto en nuestro gráfico que hemos hecho de la solución. \n",
    "\n",
    "Para llevar a cabo una derivada numericamente ocuparemos `np.gradient`, veamos de que se trata:"
   ]
  },
  {
   "cell_type": "code",
   "execution_count": null,
   "metadata": {},
   "outputs": [],
   "source": []
  },
  {
   "cell_type": "code",
   "execution_count": null,
   "metadata": {},
   "outputs": [],
   "source": []
  },
  {
   "cell_type": "markdown",
   "metadata": {},
   "source": [
    "## Ecuaciones no homogéneas de primer orden\n",
    "\n",
    "Una ecuación diferencial no homogénea tiene la forma:\n",
    "$y' + p(x)y =q(x)$, $y(a)=b$\n",
    "\n",
    "Este tipo de ecuaciones se resuelven típicamente cpon el método de variació de parámetros:\n",
    "\n",
    "$y(x) = e^{-\\int_a^x p(\\xi)d\\xi}\\left(\\int_a^x e^{\\int_a^{\\xi} p(\\zeta)d\\zeta} q(\\xi)d\\xi + b\\right)$\n",
    "\n",
    "La implementación está difícil, así que vamos a partirla en diferentes partes. Esto no es totalmente necesario pero es mucho más fácil de leer, corregir e  implementar. Te comparto las partes más sencillas:\n"
   ]
  },
  {
   "cell_type": "code",
   "execution_count": null,
   "metadata": {},
   "outputs": [],
   "source": []
  },
  {
   "cell_type": "markdown",
   "metadata": {},
   "source": [
    "Ahora separamos la ecuación en dos términos:\n",
    "\n",
    "$y(x) = term1 * term2$ donde\n",
    "\n",
    "$term1 = e^{-\\int_a^x p(\\xi)d\\xi}$\n",
    "\n",
    "y\n",
    "\n",
    "$term2 = \\left(\\int_a^x e^{\\int_a^{\\xi} p(\\zeta)d\\zeta} q(\\xi)d\\xi + b\\right)$\n",
    "\n",
    "Definamos el primer término"
   ]
  },
  {
   "cell_type": "code",
   "execution_count": null,
   "metadata": {},
   "outputs": [],
   "source": []
  },
  {
   "cell_type": "markdown",
   "metadata": {},
   "source": [
    "El segundo termino es mas complejo debido a la integral parcial dentro asi que vamos a dividir en dos funciones"
   ]
  },
  {
   "cell_type": "code",
   "execution_count": null,
   "metadata": {},
   "outputs": [],
   "source": []
  },
  {
   "cell_type": "markdown",
   "metadata": {},
   "source": [
    "Para poder usarlo haremos el producto de los dos terminos:"
   ]
  },
  {
   "cell_type": "code",
   "execution_count": null,
   "metadata": {},
   "outputs": [],
   "source": []
  },
  {
   "cell_type": "markdown",
   "metadata": {},
   "source": [
    "Si usamos cálculo y algebra llegaremos a una solución no elemental:\n",
    "\n",
    "$y(x) = e^{x^2} \\left(\\int_0^x e^{-\\xi^2} \\sin{\\xi} d\\xi + 3\\right)$\n",
    "\n",
    "Queda de ejercicio, si gustas, llegar a esta solución.\n",
    "\n",
    "La implementación es la siguiente:"
   ]
  },
  {
   "cell_type": "code",
   "execution_count": null,
   "metadata": {},
   "outputs": [],
   "source": []
  },
  {
   "cell_type": "markdown",
   "metadata": {},
   "source": []
  },
  {
   "cell_type": "markdown",
   "metadata": {},
   "source": [
    "# Solución numérica a ecuaciones diferenciales\n",
    "\n",
    "Empezamos a ver las ecuaciones diferenciales con un breve repaso, ahora entraremos al formato más común de los fenómenos:\n",
    "\n",
    "$\\frac{dy}{dx} = f(x,y)$\n",
    "\n",
    "Normalmente sabemos, y si no se supone, el valor que tiene la función en un determinado punto, $y(x0)=0$.\n",
    "\n",
    "$f(x,y)$ puede ser lineal o no. Nuestro objetivo en esta sección es aprender cómo se obtiene una solución numérica.\n",
    "\n",
    "Implementaremos dos métodos numéricos. La idea básica que se tiene es, que conocemos el valor inicial en la solución y la derivada de la solución y asi podemos estimar la solución a una pequeña distancia a parte del valor inicial. Si se repite este proceso con este nuevo punto podremos estimar el siguiente y asi sucesivamente. Existen diferentes algoritmos para llevar a cabo la estimación implementaremos dos de los muchos algoritmos existentes.\n",
    "\n",
    "Los algoritmos difieren en eficiencia, facilidad de implementación y exactitud. "
   ]
  },
  {
   "cell_type": "markdown",
   "metadata": {},
   "source": [
    "## Método de Euler\n",
    "\n",
    "La idea principal de este método es que si se conoce el valor de la solución en cierto punto y la derivada en el mismo punto, podemos estimar una solución cerca a $x0 +h$ donde $h$ es un número pequeño:\n",
    "\n",
    "\n",
    "$y_{n+1} = y_n + f(x_n, y_n) h$\n",
    "\n",
    "Ahora solo repetimos hasta obtener el valor de $x$ que se desea, consideremos lo siguiente:\n",
    "\n",
    "$y' = y + 2x - x^2; y(0) = 1$.\n",
    "\n",
    "Esta EDO tiene la solución analítica: $y(x) = x^2 + e^x$.  La cual ocuparemos con fines de comparación.\n"
   ]
  },
  {
   "cell_type": "code",
   "execution_count": null,
   "metadata": {},
   "outputs": [],
   "source": []
  },
  {
   "cell_type": "code",
   "execution_count": null,
   "metadata": {},
   "outputs": [],
   "source": []
  },
  {
   "cell_type": "code",
   "execution_count": null,
   "metadata": {},
   "outputs": [],
   "source": []
  },
  {
   "cell_type": "code",
   "execution_count": null,
   "metadata": {},
   "outputs": [],
   "source": []
  },
  {
   "cell_type": "code",
   "execution_count": null,
   "metadata": {},
   "outputs": [],
   "source": []
  },
  {
   "cell_type": "markdown",
   "metadata": {},
   "source": [
    "Este método no es muy bueno con un tamaño de paso $h$ pequeño, prueba aumentando el valor de h, Se sabe que el error aumenta linealmente con $h$\n",
    "\n",
    "Este metodo no es usado en la práctica, dado que no es muy exacto, se necesita una $h$ muy pequqeña para obtener una buena solución. Pero nos sirve para ilustrar la idea de cómo se resuelve una ecuación diferencial.\n",
    "\n",
    "Ahora implementaremos un método mucho más avanzado, Runge-Kutta de cuarto orden."
   ]
  },
  {
   "cell_type": "markdown",
   "metadata": {},
   "source": [
    "## Runge-Kutta de cuarto orden\n",
    "El procedimiento general de métodos más avanzados consiste en computar el promedio ponderado por un peso de diferentes derivadas, al rededor de un punto, para poder estimar el siguiente valor de una función.\n",
    "\n",
    "Implementaremos el método de Runge-Kutta de cuarto orden, derivar los términos de este método es tedioso, por lo que no lo veremos en el curso, pero lo puedes consultar aqui: [https://en.wikipedia.org/wiki/Runge%E2%80%93Kutta_methods#The_Runge%E2%80%93Kutta_method](https://en.wikipedia.org/wiki/Runge%E2%80%93Kutta_methods#The_Runge%E2%80%93Kutta_method)).\n"
   ]
  },
  {
   "cell_type": "code",
   "execution_count": null,
   "metadata": {},
   "outputs": [],
   "source": []
  },
  {
   "cell_type": "code",
   "execution_count": null,
   "metadata": {},
   "outputs": [],
   "source": []
  },
  {
   "cell_type": "code",
   "execution_count": null,
   "metadata": {},
   "outputs": [],
   "source": []
  },
  {
   "cell_type": "code",
   "execution_count": null,
   "metadata": {},
   "outputs": [],
   "source": []
  },
  {
   "cell_type": "markdown",
   "metadata": {},
   "source": [
    "Conseguimos tener una solución mucho más precisa con un valor de h mayor con este método.\n",
    "\n",
    "Si nuestra ecuación diferencial  es: $\\frac{dy}{dt} = f(x)$, independiente de y, entonces éste método se cuelve equivalente a la regla de integración de Simpson\n",
    "\n",
    "Los dos métodos que hemos programado tienen elementos faltantes:\n",
    "\n",
    "1. Tenemos que programarlos desde cero, existe una gran posibilidad de equivocarnos\n",
    "2. Nostros definimos el valor del paso $h$, mediante el número de pasos, y después tenemos que evaluar si se ha llegado a una conversión.\n",
    "3. El valor de $h$ es fijo, existen algoritmos donde este valor es adaptativo.\n",
    "4. Con esta solución no será sencillo resolver el problema inverso, por ejemplo, que valor de $x$ nos retorna $y=4$\n",
    "\n",
    "En la práctica ocuparemos algoritmos que se encuentran ya implementados que nos ayudarán a resolver este tipo de ecuaciones junto con los problemas que hemos listado. Solo tendremos que aprender la sintáxis de dichos algoritmos, veamos uno muy importante:"
   ]
  },
  {
   "cell_type": "markdown",
   "metadata": {},
   "source": [
    "## scipy.integrate.solve_ivp\n",
    "La librería `scipy.integrate` nos provee de la función `solve_ip` para resolver sistemas de ecuaciones diferenciales dado un valor inicial. Por lo que debemos de importarla"
   ]
  },
  {
   "cell_type": "code",
   "execution_count": null,
   "metadata": {},
   "outputs": [],
   "source": []
  },
  {
   "cell_type": "markdown",
   "metadata": {},
   "source": [
    "Empecemos a analizar los argumentos que recibe la función:\n",
    "\n",
    "- `fun` es la función a resolver con los argumentos f(t,y). $t$ es considerada la variable independiente. \n",
    "- `t_span` considerando que $t$ es la variable independiente, $t_span$ es una tupla de dos elementos indicando el inicio y fin del intervalo de integración\n",
    "- `y0` es un  arreglo que contiene los valores iniciales\n",
    "- `method` aquí podemos definir el método numérico a utilizar, el valor default es RK45 (si este es el ode45 de MATLAB)\n",
    "\n"
   ]
  },
  {
   "cell_type": "code",
   "execution_count": null,
   "metadata": {},
   "outputs": [],
   "source": []
  },
  {
   "cell_type": "markdown",
   "metadata": {},
   "source": [
    "La variable de salida de `solve_ivp` es un objeto que en sus atributos contiene el resultado "
   ]
  },
  {
   "cell_type": "code",
   "execution_count": null,
   "metadata": {},
   "outputs": [],
   "source": []
  },
  {
   "cell_type": "markdown",
   "metadata": {},
   "source": [
    "Podemos observar que existe un mensaje de success, accesamos a los atributos mediante la notación de punto. Aquí tenemos los puntos donde la solucón fue evaluada:"
   ]
  },
  {
   "cell_type": "code",
   "execution_count": null,
   "metadata": {},
   "outputs": [],
   "source": []
  },
  {
   "cell_type": "markdown",
   "metadata": {},
   "source": [
    "La solución es almacenada en un arreglo de dos dimensiones, pero como solamente tenemos una ecuación, encontraremos que en el primer elemento se encuentra el arreglo con la respuesta."
   ]
  },
  {
   "cell_type": "code",
   "execution_count": null,
   "metadata": {},
   "outputs": [],
   "source": []
  },
  {
   "cell_type": "markdown",
   "metadata": {},
   "source": [
    "Ahora hagámos una gráfica para mostrar el perfil de resultados"
   ]
  },
  {
   "cell_type": "code",
   "execution_count": null,
   "metadata": {},
   "outputs": [],
   "source": []
  },
  {
   "cell_type": "markdown",
   "metadata": {},
   "source": [
    "No se muestra tan bien el perfil, porque por default el algoritmo usa tantos puntos se necesiten para alcanzar la tolerancia especificada. Así que esta vez especifiquemos el número de elementos que queramos"
   ]
  },
  {
   "cell_type": "code",
   "execution_count": null,
   "metadata": {},
   "outputs": [],
   "source": []
  },
  {
   "cell_type": "code",
   "execution_count": null,
   "metadata": {},
   "outputs": [],
   "source": []
  },
  {
   "cell_type": "code",
   "execution_count": null,
   "metadata": {},
   "outputs": [],
   "source": []
  },
  {
   "cell_type": "markdown",
   "metadata": {},
   "source": [
    "Hasta este punto hemos resuleto 3 problemas de los 4 que habíamos identificado que nuestro algoritmo de RK4 que programamos tenia: no tenemos que implementar el algoritmo, el valor de convergencia y el valor de h son automáticamente adaptados. \n",
    "Pero nos ayudará con el último problema, el problema inverso? Por supuesto. \n",
    "\n",
    "Para ello tenemos un concepto llamado `event_function`, esto hará que en cada iteración se evalue una función la cual detectará el evento deseado, cuando esto suceda se almacena el valor donde ha ocurrido y si se indica el método seguirá hasta el target. \n",
    "\n",
    "Podemos pasar una serie de eventos, todos ellos deberán contener una función en donde se busca un cero. Si la evaluación de dicho evento cambia de signo, esto indica que se ha llegado al valor que nos iguala la función a cero. Regresando al problema 4 encontremos la solución donde $y=4$ por lo que vamos a definir una función que retorne $y-4$ porque será la función que devolverá un $0$ en la condición deseada. \n",
    "\n",
    "En nuestro caso indicaremos que en el momento en el que el evento se cumpla termine la integración, por lo que el atributo \"terminal\" será True. "
   ]
  },
  {
   "cell_type": "code",
   "execution_count": null,
   "metadata": {},
   "outputs": [],
   "source": []
  },
  {
   "cell_type": "code",
   "execution_count": null,
   "metadata": {},
   "outputs": [],
   "source": []
  }
 ],
 "metadata": {
  "kernelspec": {
   "display_name": "Python 3",
   "language": "python",
   "name": "python3"
  },
  "language_info": {
   "codemirror_mode": {
    "name": "ipython",
    "version": 3
   },
   "file_extension": ".py",
   "mimetype": "text/x-python",
   "name": "python",
   "nbconvert_exporter": "python",
   "pygments_lexer": "ipython3",
   "version": "3.7.6"
  }
 },
 "nbformat": 4,
 "nbformat_minor": 4
}
