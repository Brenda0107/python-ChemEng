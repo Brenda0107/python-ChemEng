{
 "cells": [
  {
   "cell_type": "markdown",
   "metadata": {},
   "source": [
    "# Introducción a Jupyter notebooks\n",
    "\n",
    "Es una herramienta interactiva que nos permite ejecutar Python desde el navegador web. Ocuparemos esta herramienta a lo largo del curso, en el cual desarrollaremos rápidamente las habilidades necesarias para resolver problemas de ingeniería. No aprenderemos todo sobre programación, modelado matemático o todo tipo de problemas de ingeniería. El objetivo del curso es que seas capaz de pensar de una forma computacional para poder pasar de un problema a código y así poder aumentar nuestras habilidades analíticas. \n",
    "\n",
    "Todas estas notas estarán disponibles. \n",
    "\n",
    "Objetivos de hoy:\n",
    "\n",
    "- Explorar jupyter\n",
    "- Practicar markdown\n",
    "\n",
    "Hay dos tipos de celdas en los cuadernos de jupyter: Markdown y Code"
   ]
  },
  {
   "cell_type": "markdown",
   "metadata": {},
   "source": [
    "## Markdown\n",
    "Es un lenguaje de etiquetas diseñado para poder ser leído por humanos\n",
    "\n",
    "Da doble click en esta celda para que puedas ver cómo lograr el siguiente output:\n",
    "\n",
    "1. Crear\n",
    "2. Una \n",
    "3. Lista \n",
    "4. Numerada\n",
    "\n",
    "Otro tipo de lista:\n",
    "\n",
    "- Con\n",
    "- Puntitos\n",
    "    - Con indexación\n",
    "        - A diferentes\n",
    "        - Niveles\n",
    "\n",
    "Se puede agregar texto en **negritas**, *itálicas*, <del>tachado</del>, incluso <font color=\"red\">rojo</font>\n",
    "    \n",
    "Para ecuaciones matemáticas podemos escribirlas en LaTeX ([https://en.wikibooks.org/wiki/LaTeX/Mathematics](https://en.wikibooks.org/wiki/LaTeX/Mathematics)).\n",
    "\n",
    "Veamos:\n",
    "\n",
    "- esto es una fracción $\\frac{1}{4}$\n",
    "- raíz cuadrada $\\sqrt{564}$\n",
    "- suma $\\sum_{i=1}^{10} t_i$\n",
    "- fórmula química H$_2$O\n",
    "- una integral $\\int_a^b f(x)dx$\n",
    "\n",
    "Para crear títulos simplemente añade un $#$, con uno solo crearás un título principal, si añdaes más será un subtítulo y asi sucesivamente, ejemplo:\n",
    "# Título\n",
    "## Sub título\n",
    "### Sub-sub título\n",
    "\n"
   ]
  },
  {
   "cell_type": "markdown",
   "metadata": {},
   "source": [
    "---\n",
    "Documentación completa:  [https://jupyter-notebook.readthedocs.io/en/stable/examples/Notebook/Working%20With%20Markdown%20Cells.html](https://jupyter-notebook.readthedocs.io/en/stable/examples/Notebook/Working%20With%20Markdown%20Cells.html).\n",
    "\n",
    "---\n",
    "\n",
    "No es necesario que aprendas esto ahora. Pero te recomiendo que documentes lo que hacemos de esta forma, así podrás volver a consultarlo en cualquier momento. \n",
    "\n",
    "Puedes convertir una celda a tipo markdown presionando Esc+m y regresar a tipo code con Esc+y\n"
   ]
  },
  {
   "cell_type": "code",
   "execution_count": null,
   "metadata": {},
   "outputs": [],
   "source": [
    "# las celdas de código se ejecutan con Ctrl+Enter\n",
    "# para ejecutar y pasar a la siguiente celda Shift + Enter"
   ]
  },
  {
   "cell_type": "markdown",
   "metadata": {},
   "source": [
    "## Ejecutando código\n",
    "\n",
    "Los cuadernos de jupyter nos sirven para dos cosas:\n",
    "\n",
    "1. Documentar nuestro trabajo\n",
    "2. Ejecutar código de Python\n",
    "\n",
    "Es importante saber cómo funcionan estos cuadernos de jupyter, en primera instancia podemos observar que se muestran en el navegador, el código no es ejecutado aquí sino que se envía a un servidor que en nuestro caso es nuestra propia computadora, una vez que termina la ejecución los resultados están de vuelta en el navegador. \n",
    "\n"
   ]
  }
 ],
 "metadata": {
  "kernelspec": {
   "display_name": "Python 3",
   "language": "python",
   "name": "python3"
  },
  "language_info": {
   "codemirror_mode": {
    "name": "ipython",
    "version": 3
   },
   "file_extension": ".py",
   "mimetype": "text/x-python",
   "name": "python",
   "nbconvert_exporter": "python",
   "pygments_lexer": "ipython3",
   "version": "3.7.6"
  }
 },
 "nbformat": 4,
 "nbformat_minor": 4
}
