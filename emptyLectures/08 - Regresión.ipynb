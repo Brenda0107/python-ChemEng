{
 "cells": [
  {
   "cell_type": "markdown",
   "metadata": {},
   "source": [
    "## Regresión de datos es una forma de minización (ya lo has hecho)\n",
    "\n",
    "\n",
    "Cuando pensamos en regresión, lo que nos viene a la cabeza es encontrar algún parámetro de algún modelo que reproduzca de la mejor forma aglunos datos. Cuando decimos que \"reproduzca de la mejor forma\" nos referimos a que la suma de los errores entre el valor de predicción y el valor real es minimizada. \n",
    "\n",
    "Empezemos con un problema de reactores, esta vez de cinéticas de reacción tipo L-H-H-W:\n",
    "\n",
    "\n",
    "La reacción catalítica $2A \\rightarrow B$ se llevó a cabo a 6 atmósferas, se realizaron diferentes corridas variando la presión inicial de A, en prescencia de otro componente inertes. \n",
    "\n",
    "Los resultados fueron:\n",
    "\n",
    "| $P_A$ | r     |\n",
    "|------:|-------|\n",
    "| 0.775 | 58.5  |\n",
    "| 0.655 | 47.5  |\n",
    "|  0.54 | 30.5  |\n",
    "| 0.423 | 29.35 |\n",
    "| 0.299 | 13.9  |\n",
    "| 0.169 | 4.96  |\n",
    "\n",
    "\n",
    "Demostrar la validez del modelo cinético de reacción propuesto:\n",
    "\n",
    "$$r = \\frac{k P_A^2}{(1+k_A P_A)^2}$$\n",
    "\n",
    "encontrar los valores de $k$ y $k_A$"
   ]
  },
  {
   "cell_type": "code",
   "execution_count": null,
   "metadata": {},
   "outputs": [],
   "source": [
    "import numpy as np\n",
    "%matplotlib inline\n",
    "import matplotlib.pyplot as plt\n",
    "\n",
    "presiones_A = np.array([0.775,0.655,0.54,0.423,0.299,0.169])\n",
    "r_ini= np.array([58.5,47.5,30.5,29.35,13.9,4.96])\n",
    "\n",
    "plt.plot(presiones_A,r_ini,'bo')\n",
    "plt.xlabel('P_A')\n",
    "plt.ylabel('r inicial')"
   ]
  },
  {
   "cell_type": "code",
   "execution_count": null,
   "metadata": {},
   "outputs": [],
   "source": [
    "def lhhw(parametros,P_A):\n",
    "    k,k_A = parametros\n",
    "    r = (k*P_A**2)/(1+k_A*P_A)**2\n",
    "    return r"
   ]
  },
  {
   "cell_type": "code",
   "execution_count": null,
   "metadata": {},
   "outputs": [],
   "source": [
    "lhhw((12,15),np.linspace(5,59))"
   ]
  },
  {
   "cell_type": "markdown",
   "metadata": {},
   "source": [
    "Ahora necesitamos una función que nos proporcione la suma cuadrada de los errores."
   ]
  },
  {
   "cell_type": "code",
   "execution_count": null,
   "metadata": {},
   "outputs": [],
   "source": [
    "def objetivo(params):\n",
    "    err = r_ini - lhhw(params,presiones_A)\n",
    "    return np.sum(err**2)"
   ]
  },
  {
   "cell_type": "code",
   "execution_count": null,
   "metadata": {},
   "outputs": [],
   "source": [
    "objetivo((12,15))"
   ]
  },
  {
   "cell_type": "markdown",
   "metadata": {},
   "source": [
    "Entonces necesitamos un estimado inicial para los parámetros."
   ]
  },
  {
   "cell_type": "code",
   "execution_count": null,
   "metadata": {},
   "outputs": [],
   "source": [
    "x0=[0.1,0.2]\n",
    "\n",
    "from scipy.optimize import minimize\n",
    "sol = minimize(objetivo, x0)\n",
    "print(sol)\n",
    "\n",
    "plt.plot(presiones_A,r_ini,'bo',label='Datos')\n",
    "vfit = np.linspace(min(presiones_A), max(presiones_A))\n",
    "plt.plot(vfit, lhhw(sol.x, vfit), label='fit')\n",
    "plt.legend()\n",
    "plt.xlabel('P_A')\n",
    "plt.ylabel('r inicial')"
   ]
  },
  {
   "cell_type": "markdown",
   "metadata": {},
   "source": [
    "## curve fitting\n",
    "\n"
   ]
  },
  {
   "cell_type": "code",
   "execution_count": null,
   "metadata": {},
   "outputs": [],
   "source": []
  },
  {
   "cell_type": "markdown",
   "metadata": {},
   "source": [
    "#### Veamos un ejemplo sencillo\n",
    "\n",
    "Dados los datos realizar un \"fit\" o \"fitting\" con la siguiente curva: \n",
    "\n",
    "$$y(x)=\\frac{ax}{b+x}$$\n",
    "\n",
    "¿Qué significa hacer fit sobre los datos? ------>>>> estimar los parámetros $a$ y $b$ para representar lo mejor posible a $y$ dada una $x$.\n",
    "\n",
    "|   y   |   x   |\n",
    "|:-----:|:-----:|\n",
    "| 1.255 |  0.5  |\n",
    "|  1.25 | 0.387 |\n",
    "| 1.189 |  0.24 |\n",
    "| 1.124 | 0.136 |\n",
    "| 0.783 |  0.04 |\n",
    "| 0.402 | 0.011 |\n",
    "\n"
   ]
  },
  {
   "cell_type": "code",
   "execution_count": null,
   "metadata": {},
   "outputs": [],
   "source": []
  },
  {
   "cell_type": "markdown",
   "metadata": {},
   "source": [
    "¿Qué estimado inicial ocupamos para cada variable?\n",
    "\n",
    "Vemos que la tendencia de los datos llegan asintóticamente a un valor cerca de $1.2$ y viendo la forma de la ecuación podemos decir que a un valor para $x$ grande tenemos $y = a$. \n",
    "\n",
    "¿Qué pasa con un valor de $x$ pequeño?, prácticamente la ecuación se vuelve: $y = \\frac{a}{b} x$ entonces si \"derivamos\" o estimamos que tanto cambia con gradiente y respecto a x tendriamos $m=\\frac{a}{b}$. Por lo tanto podemos \"despejar\" a $b$ de la forma siguiente: $b = \\frac{a_0}{m}$"
   ]
  },
  {
   "cell_type": "code",
   "execution_count": null,
   "metadata": {},
   "outputs": [],
   "source": []
  },
  {
   "cell_type": "code",
   "execution_count": null,
   "metadata": {},
   "outputs": [],
   "source": []
  },
  {
   "cell_type": "markdown",
   "metadata": {},
   "source": [
    "Ahora computemos el fitting"
   ]
  },
  {
   "cell_type": "code",
   "execution_count": null,
   "metadata": {},
   "outputs": [],
   "source": []
  },
  {
   "cell_type": "code",
   "execution_count": null,
   "metadata": {},
   "outputs": [],
   "source": []
  },
  {
   "cell_type": "markdown",
   "metadata": {},
   "source": [
    "Siempre debemos verificar visualmente el resultado:"
   ]
  },
  {
   "cell_type": "code",
   "execution_count": null,
   "metadata": {},
   "outputs": [],
   "source": []
  },
  {
   "cell_type": "markdown",
   "metadata": {},
   "source": [
    " **ejercicio de polímeros:**\n",
    " \n",
    " Estime los coeficientes de reactividad $r_1$ y $r_2$ a partir de los siguientes datos de la copolimerización del ácido metacrilico ($M_1$) con metacrilonitrilo($M_2$)\n",
    " \n",
    " | Composición molar del monómero $M_1$ (%) | Composición molar del monómero $M_1$ en el copolímero |\n",
    "|:----------------------------------------:|:-----------------------------------------------------:|\n",
    "|                     0                    |                           0                           |\n",
    "|                    10                    |                          15.5                         |\n",
    "|                    20                    |                          29.2                         |\n",
    "|                    30                    |                          41.3                         |\n",
    "|                    40                    |                          52.1                         |\n",
    "|                    50                    |                           61                          |\n",
    "|                    60                    |                          70.8                         |\n",
    "|                    70                    |                           79                          |\n",
    "|                    80                    |                          86.5                         |\n",
    "|                    90                    |                          93.5                         |\n",
    "|                    100                   |                          100                          |\n",
    "\n",
    "\n",
    "Realiza el ajuste con la ecuación de Mayo-Lewis para copolimerización[https://en.wikipedia.org/wiki/Mayo%E2%80%93Lewis_equation](https://en.wikipedia.org/wiki/Mayo%E2%80%93Lewis_equation)\n",
    "\n",
    "$$F_1 = \\frac{(r_1-1)f_1^2+f_1}{(r_1+r_2-2)f_1^2+2(1-r_2)f_1+r_2}$$\n",
    "\n",
    "Donde:\n",
    "\n",
    "- F1 es la composición molar del monómero $M_1$ en el copolímero\n",
    "\n",
    "- f1 es la composición molar del monómero $M_1$"
   ]
  },
  {
   "cell_type": "code",
   "execution_count": null,
   "metadata": {},
   "outputs": [],
   "source": []
  },
  {
   "cell_type": "code",
   "execution_count": null,
   "metadata": {},
   "outputs": [],
   "source": []
  },
  {
   "cell_type": "code",
   "execution_count": null,
   "metadata": {},
   "outputs": [],
   "source": []
  },
  {
   "cell_type": "markdown",
   "metadata": {},
   "source": [
    "## estimación de incertidumbre\n",
    "\n",
    "No hemos analizado el segundo parámetro que regresa `curve_fit`:\n",
    "\n",
    "pcov : 2d array\n",
    "    The estimated covariance of popt. The diagonals provide the variance\n",
    "    of the parameter estimate. To compute one standard deviation errors\n",
    "    on the parameters use ``perr = np.sqrt(np.diag(pcov))``.\n"
   ]
  },
  {
   "cell_type": "code",
   "execution_count": null,
   "metadata": {},
   "outputs": [],
   "source": []
  },
  {
   "cell_type": "code",
   "execution_count": null,
   "metadata": {},
   "outputs": [],
   "source": []
  }
 ],
 "metadata": {
  "kernelspec": {
   "display_name": "Python 3",
   "language": "python",
   "name": "python3"
  },
  "language_info": {
   "codemirror_mode": {
    "name": "ipython",
    "version": 3
   },
   "file_extension": ".py",
   "mimetype": "text/x-python",
   "name": "python",
   "nbconvert_exporter": "python",
   "pygments_lexer": "ipython3",
   "version": "3.7.4"
  }
 },
 "nbformat": 4,
 "nbformat_minor": 4
}
