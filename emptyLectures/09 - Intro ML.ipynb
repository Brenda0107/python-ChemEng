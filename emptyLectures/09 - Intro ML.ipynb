{
 "cells": [
  {
   "cell_type": "markdown",
   "metadata": {},
   "source": [
    "# Algunos conceptos:\n",
    "\n",
    "- Inteligencia Artificial (Artificial Intelligence - AI)\n",
    "- Aprendizaje automático  (Machine learning - ML)\n",
    "- Aprendizaje profundo    (Deep learning - DL)\n",
    "\n",
    "#### Inteligencia Artificial: \n",
    "La capacidad que puede tener una maquina para realizar las tareas de un ser humano, cumpliendolas al mismo nivel de eficiencia o incluso mejor.\n",
    "\n",
    "#### Machine Learning: \n",
    "Es un subcampo de la inteligencia artificial que involucra muchos datos para poder brindárselos de alguna forma a un software y que pueda resolver una tarea específica sin necesidad de que esté programada explícitamente para realizarla.\n",
    "\n",
    "Dentro de ML tenemos tres tipos de algoritmos de aprendizaje:\n",
    "\n",
    "##### Aprendizaje supervisado: \n",
    "Este tipo requiere etiquetas, los datos tendrás etiquetas de sí o no.\n",
    "##### Aprendizaje no supervisado:\n",
    "Nuestras variables de entrada tendrán un peso para luego sumar esas variables y tendremos un resultado. Esto no es más que una regresión lineal.\n",
    "##### Aprendizaja reforzado: \n",
    "Si solo tengo las variables de entradas. Se puede agrupar y buscar patrones. Tomar acciones para maximizar la recompensa en una situación específica.\n",
    "\n",
    "#### Deep Learning:\n",
    "Es ML con redes neuronales de muchas capas que pueden aprender asociaciones entre entrada y salidas. Estas redes con diferentes nodos y se asemejan a como funciona una neurona del cuerpo humano.\n",
    "\n",
    "\n",
    "\n",
    "\n"
   ]
  },
  {
   "cell_type": "markdown",
   "metadata": {},
   "source": [
    "## Empecemos con el modelo más sencillo -> regresión lineal\n",
    "\n",
    "\n",
    "Supongamos que queremos predecir el precio de una casa en función del zona, tipo de casa, cantidad de baños\n",
    "\n",
    "$y=f(\\sum w_ix_i+b)$\n",
    "\n",
    "Intuitivamente nostros podemos estimar un precio dependiendo la zona donde se encuentre la casa, pero necesitamos que la computadora entienda este tipo de **features** asignándoles un peso $w_i$ para dicha tarea. Entonces la \"pendiente\" en la ecuación de la recta será el \"peso\" asociado al feature. \n",
    "\n",
    "Entonces necesitamos definir un **Modelo**, para después **entrenarlo** con nuestra data y realizar **predicciones** una vez que se haya ajustado. \n",
    "\n",
    "En la etapa de entrenamiento el modelo notará las correlaciones que existen entre los features y la etiqueta de salida.\n",
    "\n",
    "en el ejemplo de las casas, construimos un modelo:\n",
    "\n",
    "$precio = habitaciones * w_0 + tamanio * w_1 + ubicacion*w_2$\n",
    "\n",
    "\n",
    "Normalmente el modelo tendrá un error asociado, lo que genera una périda, ¿cómo minimizamos la pérdida?, si exactamente con una función de error. \n",
    "\n",
    "\n",
    "Función error más común: **MSE** (Mean Squared Error) o media de la suma de cuadrado de los errores\n",
    "$$J(\\theta) = \\frac{1}{2m}\\sum_{i=1}^m(h_\\theta(x^{(i)}-y^{i}))^2$$\n",
    "\n",
    "Cómo minimizamos: con el algoritmo **\"gradient descent\"** o descenso por gradiente [https://en.wikipedia.org/wiki/Gradient_descent](https://en.wikipedia.org/wiki/Gradient_descent)\n",
    "\n",
    "\n",
    "![lr](lr.png)\n",
    "\n",
    "Entonces este \"learning rate\" debemos de definirlo de una forma óptima, por lo que técnicamente llamaremos al algoritmo como **\"SGD\"** (Stochastic Gradient Descent).\n",
    "\n",
    "Llegaremos al mínimo utilizando la derivada para calcular el gradiente.\n",
    "\n",
    "En resumen:\n",
    "- Inicializamos los valores de los pesos y utilizamos el modelo para predecir.\n",
    "- Calculamos loss y evaluamos el desempesño del modelo.\n",
    "- Usando el gradiente, recalculamos pesos e iteramos.\n",
    "\n",
    "Conclusiones:\n",
    "\n",
    "- La fase de entrenamiento es un proceso iterativo (no ocupar funciones error complejas)\n",
    "- Al calcular el error (loss), el gradiente nos ayuda a buscar el mínimo\n",
    "- Es necesario calibrar el valor de learning rate\n",
    "\n"
   ]
  },
  {
   "cell_type": "code",
   "execution_count": null,
   "metadata": {},
   "outputs": [],
   "source": []
  }
 ],
 "metadata": {
  "kernelspec": {
   "display_name": "Python 3",
   "language": "python",
   "name": "python3"
  },
  "language_info": {
   "codemirror_mode": {
    "name": "ipython",
    "version": 3
   },
   "file_extension": ".py",
   "mimetype": "text/x-python",
   "name": "python",
   "nbconvert_exporter": "python",
   "pygments_lexer": "ipython3",
   "version": "3.7.4"
  }
 },
 "nbformat": 4,
 "nbformat_minor": 4
}
