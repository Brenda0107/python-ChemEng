{
 "cells": [
  {
   "cell_type": "markdown",
   "metadata": {},
   "source": [
    "## Integración numérica\n",
    "Si bien existe distinto software para realizar integraciones analíticas, en este curso nos inclinaremos solo por la integración numérica.\n",
    "\n",
    "Una serie de datos nos representan una función o comportamiento, evaluemos la función $y=x^2$ con cinco puntos del 1 al 4. "
   ]
  },
  {
   "cell_type": "code",
   "execution_count": null,
   "metadata": {},
   "outputs": [],
   "source": []
  },
  {
   "cell_type": "markdown",
   "metadata": {},
   "source": [
    "El área bajo la curva es:\n",
    "\n",
    "$A = \\int_1^4 x^2 dx$\n",
    "\n",
    "La solución analítica es muy sencilla\n",
    "\n",
    "$A = \\frac{1}{3} (4^3 - 1^3)$.\n",
    "\n",
    "En la siguiente celda la evaluaremos solo para comparar con las soluciones analíticas"
   ]
  },
  {
   "cell_type": "code",
   "execution_count": 3,
   "metadata": {},
   "outputs": [
    {
     "data": {
      "text/plain": [
       "21.0"
      ]
     },
     "execution_count": 3,
     "metadata": {},
     "output_type": "execute_result"
    }
   ],
   "source": []
  },
  {
   "cell_type": "markdown",
   "metadata": {},
   "source": [
    "Muchas veces no tenemos un modelo o ecuación disponible para que represente el fenómeno que estamos analizando, por ejemplo cuando tenemos datos medidos. \n",
    "\n",
    "La forma clásica para realizar una integral numérica es el método del trapecio. El área de un trapceio es: $A = 0.5 * alto * (y1 + y2)$. \n",
    "\n",
    "Empecemos con el número de puntos que tenemos disponibles:\n"
   ]
  },
  {
   "cell_type": "code",
   "execution_count": 4,
   "metadata": {},
   "outputs": [
    {
     "data": {
      "text/plain": [
       "5"
      ]
     },
     "execution_count": 4,
     "metadata": {},
     "output_type": "execute_result"
    }
   ],
   "source": []
  },
  {
   "cell_type": "markdown",
   "metadata": {},
   "source": [
    "Con cinco puntos podremos trazar cuatro trapecios y computar la integral, el ára del primero es:"
   ]
  },
  {
   "cell_type": "code",
   "execution_count": 7,
   "metadata": {},
   "outputs": [
    {
     "data": {
      "text/plain": [
       "1.5234375"
      ]
     },
     "execution_count": 7,
     "metadata": {},
     "output_type": "execute_result"
    }
   ],
   "source": []
  },
  {
   "cell_type": "markdown",
   "metadata": {},
   "source": [
    "Nos faltan otros tres trapecios, podríamos copiar y pegar el código y cambiar los índices pero esto no es del todo correcto. \n",
    "\n",
    "Lo que haremos será ocupar un ciclo `for` para iterar desde 1 hasta la longitud del arreglo `x`. Veamos:"
   ]
  },
  {
   "cell_type": "code",
   "execution_count": null,
   "metadata": {},
   "outputs": [],
   "source": []
  },
  {
   "cell_type": "code",
   "execution_count": null,
   "metadata": {},
   "outputs": [],
   "source": []
  },
  {
   "cell_type": "code",
   "execution_count": null,
   "metadata": {},
   "outputs": [],
   "source": []
  },
  {
   "cell_type": "code",
   "execution_count": null,
   "metadata": {},
   "outputs": [],
   "source": [
    "\n"
   ]
  },
  {
   "cell_type": "markdown",
   "metadata": {},
   "source": [
    "No obtenemos el resultado exacto, ya que este algoritmo sobreestima el valor de la integral.\n",
    "\n",
    "**Ejercicio**: Aumentar el número de elementos para ver cómo aumentamos la presición."
   ]
  },
  {
   "cell_type": "markdown",
   "metadata": {},
   "source": [
    "### No reeinventemos la rueda cada vez que hagamos un programa\n",
    "\n",
    "#### numpy.trapz"
   ]
  },
  {
   "cell_type": "code",
   "execution_count": null,
   "metadata": {},
   "outputs": [],
   "source": []
  },
  {
   "cell_type": "markdown",
   "metadata": {},
   "source": [
    "Ahora podemos realizar la integral con una sola línea"
   ]
  },
  {
   "cell_type": "code",
   "execution_count": null,
   "metadata": {},
   "outputs": [],
   "source": []
  },
  {
   "cell_type": "markdown",
   "metadata": {},
   "source": [
    "## Método de simpson\n",
    "\n",
    "En lugar de hacer una interpolación lineal, con el método de simpson hacemos una interpolación cuadrática usando los puntos vecinos en cada paso, y después realizar la integral analítica de una parábola. En este [link](https://en.wikipedia.org/wiki/Simpson's_rule#/media/File:Simpsonsrule2.gif) podemos encontrar una animación del método de simpson. Hagámos la integral de nuevo:"
   ]
  },
  {
   "cell_type": "code",
   "execution_count": null,
   "metadata": {},
   "outputs": [],
   "source": []
  },
  {
   "cell_type": "code",
   "execution_count": null,
   "metadata": {},
   "outputs": [],
   "source": []
  },
  {
   "cell_type": "markdown",
   "metadata": {},
   "source": [
    "## Ejemplos de aplicación:\n",
    "\n",
    "#### Estimar el volumen de un sólido\n",
    "\n",
    "Podemos hacer uso de las integrales para el cálculo de un volumen de un sólido si conocemos cómo varia el área transversal en alguna dirección. \n",
    "\n",
    "Para una esfera podemos establecer que:\n",
    "\n",
    "$A(x) = \\pi (1 - x^2)$\n"
   ]
  },
  {
   "cell_type": "code",
   "execution_count": null,
   "metadata": {},
   "outputs": [],
   "source": []
  },
  {
   "cell_type": "markdown",
   "metadata": {},
   "source": [
    "#### Estimar el volumen de un reactor PFR\n",
    "\n",
    "Ejercicio tomado del Fogler, ejemplo 2.7, El volumen de un PFR esta definido como:\n",
    "\n",
    "$\\int_{X0}^{X1} \\frac{F_{A0}}{-r_A} dX$\n",
    "\n",
    "donde $F_{A0}$ es el flujo molar de la especie A, $X$ es la conversión, $*-r_A$ es la rapidez de desaparición de la especie A por unidad de volumen, $r_A$ está en función de la conversión. \n",
    "\n",
    "| X|-r\\_A (kmol / m^3 / hr)|\n",
    "|---|---|\n",
    "| 0|39|\n",
    "| 0.2|53|\n",
    "| 0.4|59|\n",
    "| 0.6|38|\n",
    "| 0.65|25|\n",
    "\n",
    "\n",
    "Utilizar estos datos para estimar el volumen de un reactor PFR para conseguir una conversión del 65%"
   ]
  },
  {
   "cell_type": "code",
   "execution_count": null,
   "metadata": {},
   "outputs": [],
   "source": []
  },
  {
   "cell_type": "markdown",
   "metadata": {},
   "source": [
    "Encontremos la dependencia que existe del volumen en función de la conversión. Primero hagámos la gráfica del integrando contra la conversión, de esta forma podremos encontrar a primera vista cómo cambia un el volumen a lo largo de la conversión."
   ]
  },
  {
   "cell_type": "code",
   "execution_count": null,
   "metadata": {},
   "outputs": [],
   "source": []
  },
  {
   "cell_type": "markdown",
   "metadata": {},
   "source": [
    "Ahora hagámos la integral sobre cada uno de los puntos.\n",
    "\n",
    "Antes de proceder al ciclo de integración veamos rápidamente la indexación o Slicing de arrays:"
   ]
  },
  {
   "cell_type": "code",
   "execution_count": null,
   "metadata": {},
   "outputs": [],
   "source": []
  },
  {
   "cell_type": "markdown",
   "metadata": {},
   "source": [
    "Podemos acceder al último elemento con números negativos:"
   ]
  },
  {
   "cell_type": "code",
   "execution_count": null,
   "metadata": {},
   "outputs": [],
   "source": []
  },
  {
   "cell_type": "markdown",
   "metadata": {},
   "source": [
    "Para acceder hasta el ultimo elemento, incluyéndolo, debemos de no especificar el término del slicing:"
   ]
  },
  {
   "cell_type": "code",
   "execution_count": null,
   "metadata": {},
   "outputs": [],
   "source": []
  },
  {
   "cell_type": "markdown",
   "metadata": {},
   "source": [
    "De vuelta al problema: ocuparemos la indexación o slicing para llevar a cabo nuestra integral."
   ]
  },
  {
   "cell_type": "code",
   "execution_count": null,
   "metadata": {},
   "outputs": [],
   "source": []
  },
  {
   "cell_type": "code",
   "execution_count": null,
   "metadata": {},
   "outputs": [],
   "source": []
  },
  {
   "cell_type": "markdown",
   "metadata": {},
   "source": [
    "¿Qué pasa si queremos saber el volumen para una conversión diferente? Para eso necesitaremos interpolación, lo veremos más adelante.\n",
    "\n",
    "## Cuadratura numérica - integración de funciones\n",
    "\n",
    "Cuando conocemos la función y de entrada sabemos que es difícil de integrar optamos por un método numérico. En una cuadratura se aproxima la integral como la suma ponderada de valores evaluados en la función. Si incrementamos el número de valores usados mejoramos el estimado de la integral. \n",
    "\n",
    "Consideremos la función: $y(x) = 7x^3-8x^2-3x+3$ desde -1 a 1.\n",
    "\n",
    "Dado que es un polinomio de orden 3, podemos computar la integral de la forma:\n",
    "\n",
    "$\\int f(x) dx = w_1 f(x_1) + w_2 f(x_2)$\n",
    "\n",
    "Los pesos los podemos encontrar tabulados en algún libro o sitio web, [Gaussian_quadrature](https://en.wikipedia.org/wiki/Gaussian_quadrature). Que para este caso los pesos son simplemente 1, y usamos $\\pm \\sqrt{1/3}$ para el valor de x."
   ]
  },
  {
   "cell_type": "code",
   "execution_count": null,
   "metadata": {},
   "outputs": [],
   "source": []
  },
  {
   "cell_type": "markdown",
   "metadata": {},
   "source": [
    "Con este ejemplo intento evidenciar que existen métodos realmente robustos para evaluar integrales, en este caso solo necesitamos saber que la función era un polinomio y que con dos puntos podemos saber el valor de la integral. \n",
    "\n",
    "Pero no todo es así de sencillo, en este caso tenemos un intervalo normalizado (de -1 a 1), las funciones no siempre son polinomios, por lo que veremos cómo integrar funciones más complejas. Para ello ocuparemos una libreria llamada `scipy.integrate` en ella encontramos a la función [quad](https://docs.scipy.org/doc/scipy-0.18.1/reference/generated/scipy.integrate.quad.html#scipy.integrate.quad), que es un wrappper de rutinas de FORTRAN. "
   ]
  },
  {
   "cell_type": "code",
   "execution_count": null,
   "metadata": {},
   "outputs": [],
   "source": []
  },
  {
   "cell_type": "markdown",
   "metadata": {},
   "source": [
    "Empecemos con lo más sencillo: $\\int_1^4x^2dx$"
   ]
  },
  {
   "cell_type": "code",
   "execution_count": null,
   "metadata": {},
   "outputs": [],
   "source": []
  },
  {
   "cell_type": "markdown",
   "metadata": {},
   "source": [
    "Podemos integrar al infinito:\n",
    "\n",
    "$\\int_{-\\infty}^{\\infty} \\frac{1}{x^2 + 1} = \\pi$."
   ]
  },
  {
   "cell_type": "code",
   "execution_count": null,
   "metadata": {},
   "outputs": [],
   "source": []
  },
  {
   "cell_type": "markdown",
   "metadata": {},
   "source": [
    "### Ejercicios aplicados:\n",
    "\n",
    "#### Encontrar el volumen de un reactor PFR.\n",
    "\n",
    "Para una reacción donde el consumo de la especie A es: $-r_A = k C_A$, haciendo el balance para el volumen en función de la conversión $X$ tenemos:\n",
    "\n",
    "$V = \\int_0^X \\frac{F_{A0}}{-r_A(X)} dX$\n",
    "\n",
    "donde $F_{A0}$ es el flujo molar de A, que es proporcional a la concentración inicial por el flujo volumétrico. La concentración de A en el reactor es función de la conversión, esta dada por $C_A = C_{A0} (1 - X)$, si $k=0.23$ 1/min, $C_{A0} = 1$ mol/L y el flujo volumétrico es 1 L/min. ¿Cuál es el volumen del reactor requerido para obtener una conversión del 50%?"
   ]
  },
  {
   "cell_type": "code",
   "execution_count": 1,
   "metadata": {},
   "outputs": [
    {
     "name": "stdout",
     "output_type": "stream",
     "text": [
      "El volumen requerido para una conversion del 50% es 3.014 L\n"
     ]
    }
   ],
   "source": [
    "from scipy.integrate import quad\n",
    "\n",
    "k = 0.23 #1/min\n",
    "Ca0 = 1 # mol/L\n",
    "v0 = 1 # L/min\n",
    "\n",
    "Fa0 = Ca0 * v0\n",
    "\n",
    "def rA(x):\n",
    "    Ca = Ca0*(1-x)\n",
    "    return -k*Ca\n",
    "\n",
    "def integrando(x):\n",
    "    return Fa0/-rA(x)\n",
    "\n",
    "vol,err = quad(integrando,0,0.5)\n",
    "\n",
    "print(f'El volumen requerido para una conversion del 50% es {vol:1.3f} L')\n"
   ]
  },
  {
   "cell_type": "markdown",
   "metadata": {},
   "source": [
    "#### Difusión\n",
    "\n",
    "Cuando la concentración de soluto es constante en una superficie, y el soluto presenta una difusión en el sólido se tendrá una variación de la concentración dentro del solido a lo largo del tiempo de acuerdo a: $C_A(x, t) = C_{As} - (C_{As} - C_{A0}) erf\\left(\\frac{x}{\\sqrt{4 D t}}\\right)$.\n",
    "\n",
    "$C_{As}$ es la concentración de la especie en difusión a $x=0$, y $C_{A0}$ es la concentración inicial de la especie en el cuerpo sólido y  $erf(\\xi) = \\frac{2}{\\sqrt{\\pi}} \\int_0^\\xi e^-{\\xi^2} d\\xi$\n",
    "\n",
    "Esta integral surge de la solución a la ecuación diferencial que describe la difusión. La integral no tiene una solución analítica, pero se puede resolver numéricamente.\n",
    "\n",
    "Supongamos que tenemos una muestra de acero # 1 que inicialmente contiene 0.02% de carbono, y se pone en contacto con otro acero que contiene 1.2% de carbono. Si el coeficiente de difusión del carbono es 1.54e-6 cm ^ 2 / s, ¿cuál será la concentración de carbono en la muestra # 1 después de 24 horas a una distancia de 0.15 cm de la interfase?"
   ]
  },
  {
   "cell_type": "code",
   "execution_count": 4,
   "metadata": {},
   "outputs": [
    {
     "name": "stdout",
     "output_type": "stream",
     "text": [
      "La concentracion en el acero #1 despues de 24 horas es de 0.9300 \n"
     ]
    }
   ],
   "source": [
    "import numpy as np\n",
    "\n",
    "Cas = 1.2\n",
    "Ca0 = 0.02\n",
    "D = 1.54e-6 # cm^2/s\n",
    "x = 0.15 # cm\n",
    "t = 24 * 60 * 60 # s\n",
    "\n",
    "xi = x / np.sqrt(4*D*t)\n",
    "\n",
    "def  integrando_erf(xi):\n",
    "    return 2/np.sqrt(np.pi) * np.exp(-xi**2)\n",
    "\n",
    "erf_calculado,err = quad(integrando_erf,0,xi)\n",
    "\n",
    "\n",
    "Cx = Cas-(Cas-Ca0) * erf_calculado\n",
    "\n",
    "print(f'La concentracion en el acero #1 despues de 24 horas es de {Cx:1.4f} ')"
   ]
  },
  {
   "cell_type": "markdown",
   "metadata": {},
   "source": [
    "La [función de error](https://en.wikipedia.org/wiki/Error_function) $erf(x)$ es una función importante por lo que se encuentra ya implementada en scipy.special"
   ]
  },
  {
   "cell_type": "code",
   "execution_count": 6,
   "metadata": {},
   "outputs": [
    {
     "name": "stdout",
     "output_type": "stream",
     "text": [
      "La concentracion en el acero #1 despues de 24 horas es de 0.9300 \n"
     ]
    }
   ],
   "source": [
    "from scipy.special import erf\n",
    "\n",
    "Cx_special = Cas-(Cas-Ca0)* erf(xi)\n",
    "\n",
    "print(f'La concentracion en el acero #1 despues de 24 horas es de {Cx_special:1.4f} ')"
   ]
  },
  {
   "cell_type": "markdown",
   "metadata": {},
   "source": [
    "## Resumen:\n",
    "\n",
    "Los puntos principales del notebook fueron:\n",
    "\n",
    "- Integración numperica de datos\n",
    "    - Utilizamos los métodos del trapecio y Simpson's, los invito a que lean un poco mas de su implementacion en la doc\n",
    "    - `numpy.trapz`, `scipy.integrate.cumtrapz`, y `scipy.integrate.simps`.\n",
    "- Integración de funciones por medio de métodos de cuadratura \n",
    "    - Este tipo de método ocupa una suma ponderada por pesos para estimar el valor de la integral\n",
    "    - ejemplo `scipy.integrate.quad`.\n",
    "    - esta libreria nos provee de métodos de convergencia más sofisticados y estimación de erores\n",
    "\n",
    "En el siguiente notebook nos enfocaremos más a la solución de ecuaciones diferenciales."
   ]
  }
 ],
 "metadata": {
  "kernelspec": {
   "display_name": "Python 3",
   "language": "python",
   "name": "python3"
  },
  "language_info": {
   "codemirror_mode": {
    "name": "ipython",
    "version": 3
   },
   "file_extension": ".py",
   "mimetype": "text/x-python",
   "name": "python",
   "nbconvert_exporter": "python",
   "pygments_lexer": "ipython3",
   "version": "3.7.6"
  }
 },
 "nbformat": 4,
 "nbformat_minor": 4
}
