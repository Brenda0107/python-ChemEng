{
 "cells": [
  {
   "cell_type": "markdown",
   "metadata": {},
   "source": [
    "### scipy.optimize.minimize\n",
    "\n",
    "Es una función que nos permite encontrar mínimos locales, veamos su uso:"
   ]
  },
  {
   "cell_type": "code",
   "execution_count": null,
   "metadata": {},
   "outputs": [],
   "source": []
  },
  {
   "cell_type": "code",
   "execution_count": null,
   "metadata": {},
   "outputs": [],
   "source": []
  },
  {
   "cell_type": "code",
   "execution_count": null,
   "metadata": {},
   "outputs": [],
   "source": []
  },
  {
   "cell_type": "markdown",
   "metadata": {},
   "source": [
    "### ¿Qué pasa si encontramos múltiples mínimos?\n",
    "Es posible que las funciones tengan múltiples mínimos, en este caso dependerá totalmente del estimado inicial hacia dónde nos estamos dirigiendo. Ejemplo donde tenemos dos mínimos cerca de 2.2 y 4.5.\n",
    "\n"
   ]
  },
  {
   "cell_type": "code",
   "execution_count": null,
   "metadata": {},
   "outputs": [],
   "source": []
  },
  {
   "cell_type": "code",
   "execution_count": null,
   "metadata": {},
   "outputs": [],
   "source": []
  },
  {
   "cell_type": "code",
   "execution_count": null,
   "metadata": {},
   "outputs": [],
   "source": []
  },
  {
   "cell_type": "markdown",
   "metadata": {},
   "source": [
    "El resultado que se elige depende totalmente de nuestro criterio."
   ]
  },
  {
   "cell_type": "markdown",
   "metadata": {},
   "source": [
    "### Encontrando máximos\n",
    "`minimize` nos sirve para encontrar mínimos, pero también lo podemos ocupar par el caso de los máximos, indicando una función con signo contrario $-f(x)$. \n",
    "Veamos la gráfica de $-h(x)$, en este caso los mínimos se convierten en máximos y viceversa. "
   ]
  },
  {
   "cell_type": "code",
   "execution_count": null,
   "metadata": {},
   "outputs": [],
   "source": []
  },
  {
   "cell_type": "markdown",
   "metadata": {},
   "source": [
    "Ahora podemos notar que hay dos mínimos locales, cerca del cero y cerca de 3.5\n",
    "\n",
    "Hay un argumento especial dentro de `minimize` para indicar esto, veamos:"
   ]
  },
  {
   "cell_type": "code",
   "execution_count": null,
   "metadata": {},
   "outputs": [],
   "source": []
  },
  {
   "cell_type": "markdown",
   "metadata": {},
   "source": [
    "### Maximizando la utilidad en un reactor PFR\n",
    "\n",
    "Tenemos al compuesto X con una concentración inicial de $C_{X0} = 2.5$ kmol / m<sup>3</sup> con un flujo de 12 m<sup>3</sup>/min reacciona y produce el compuesto Y, con un orden de reacción de uno y una constante cinética de 30 1/min. El valor de Y es 1.5 USD/mol. El costo de operación es de 2.50 USD por minuto por m<sup>3</sup>. Encuentra la longitud del reactor que maximiza la utilidad(valor de productos - costos de operación)\n",
    "    \n",
    "Primero consideremos por qué debe de existir un máximo: A un volumen de reactor bajo el costo de operación es muy bajo, y la produciión de Y también es baja. A un volumen muy grande maximizamos la producción de Y, el valor máximo que podríamos alcanzar de Y, pero los costos de operación crecen (y mucho!, al infinito para completar un conversión de 100%). En algún lugar dentro de este intervalo debe existir un máximo en utilidad.\n",
    "    \n",
    "Empezemos con la definición de algunas constantes del problema:"
   ]
  },
  {
   "cell_type": "code",
   "execution_count": null,
   "metadata": {},
   "outputs": [],
   "source": []
  },
  {
   "cell_type": "markdown",
   "metadata": {},
   "source": [
    "Para obtener la utilidad como una función del volumen del reactor, primero debemos obtener cuanto de Y estamos produciendo, después multiplicar el valor de Y y sustraer el costo de operación. Para obtener que tanto se produce de Y tenemos que resolver el balance en mol de X y Y, integrarlo a lo largo del volumen para obtener los flujos molares de X y Y."
   ]
  },
  {
   "cell_type": "code",
   "execution_count": null,
   "metadata": {},
   "outputs": [],
   "source": []
  },
  {
   "cell_type": "markdown",
   "metadata": {},
   "source": [
    "Ahora definamos la funcion de utilidad, que tomará el volumen como argumento, integra la ecuacion del PFR para encontrar el flujo molar de salida(X,Y) y calcula la utilidad."
   ]
  },
  {
   "cell_type": "code",
   "execution_count": null,
   "metadata": {},
   "outputs": [],
   "source": []
  },
  {
   "cell_type": "markdown",
   "metadata": {},
   "source": [
    "Es una muy buena idea ver cómo se comporta la función, asi que a graficar:"
   ]
  },
  {
   "cell_type": "code",
   "execution_count": null,
   "metadata": {},
   "outputs": [],
   "source": []
  },
  {
   "cell_type": "markdown",
   "metadata": {},
   "source": [
    "Podemos observar que hay un máximo cerca de $V=1.2$, usemos ese valor como estimado inicial de `minimize`"
   ]
  },
  {
   "cell_type": "code",
   "execution_count": null,
   "metadata": {},
   "outputs": [],
   "source": []
  },
  {
   "cell_type": "markdown",
   "metadata": {},
   "source": [
    "## En resumen\n",
    "\n",
    "\n",
    "Encontrar máximos y mínimos es un proceso iterativo, lo podemos asociar con encontrar cuando la derivada es cero en una función, este método es la raíz de diversos problemas de optimización como lo es la regresión.\n",
    "\n",
    "`scipy.optimize.minimize` es la función preferida para llevar a cabo minimización, hay otras fnciones en [https://docs.scipy.org/doc/scipy/reference/optimize.html](https://docs.scipy.org/doc/scipy/reference/optimize.html), pero `minimize` es de las mejores. \n",
    "\n",
    "Siguiente notebook: aplicaremos minimización a problemas de regresión."
   ]
  }
 ],
 "metadata": {
  "kernelspec": {
   "display_name": "Python 3",
   "language": "python",
   "name": "python3"
  },
  "language_info": {
   "codemirror_mode": {
    "name": "ipython",
    "version": 3
   },
   "file_extension": ".py",
   "mimetype": "text/x-python",
   "name": "python",
   "nbconvert_exporter": "python",
   "pygments_lexer": "ipython3",
   "version": "3.7.4"
  }
 },
 "nbformat": 4,
 "nbformat_minor": 4
}
