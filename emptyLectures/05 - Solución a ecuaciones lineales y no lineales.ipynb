{
 "cells": [
  {
   "cell_type": "markdown",
   "metadata": {},
   "source": [
    "- KEWYWORDS: `scipy.optimize.fsolve`, `listas por comprensión`"
   ]
  },
  {
   "cell_type": "markdown",
   "metadata": {},
   "source": [
    "## Solución a ecuaciones  no lineales\n",
    "\n",
    "En álgebra no lineal normalmente se busca una solución a una ecuación de este modo $f(x) =0$, por ejemplo:\n",
    "\n",
    "-   $e^x=2$\n",
    "-   $x^2 + x - 1 = 0$\n",
    "-   $f(F_A) = F_{A0} - F_{A} - k F_A^2 / \\nu / V = 0$\n",
    "\n",
    "\n",
    "### fsolve\n",
    "\n",
    "`scipy.optimize.fsolve` es una función que nos ayudará a resolver problemas de algebra no lineal. \n",
    "Empecemos importandola y ver cómo funciona"
   ]
  },
  {
   "cell_type": "code",
   "execution_count": null,
   "metadata": {},
   "outputs": [],
   "source": [
    "from scipy.optimize import fsolve\n",
    "\n",
    "?fsolve"
   ]
  },
  {
   "cell_type": "markdown",
   "metadata": {},
   "source": [
    "Veamos el primer ejemplo de la lista:\n",
    "\n",
    "Resolver $e^x=2$"
   ]
  },
  {
   "cell_type": "code",
   "execution_count": null,
   "metadata": {},
   "outputs": [],
   "source": []
  },
  {
   "cell_type": "markdown",
   "metadata": {},
   "source": [
    "Veamos la tolerancia que maneja la función:"
   ]
  },
  {
   "cell_type": "code",
   "execution_count": null,
   "metadata": {},
   "outputs": [],
   "source": []
  },
  {
   "cell_type": "markdown",
   "metadata": {},
   "source": [
    "Podemos obtener más información de la respuesta, en este caso tenemos que crear cuatro variables como resultado:"
   ]
  },
  {
   "cell_type": "code",
   "execution_count": null,
   "metadata": {},
   "outputs": [],
   "source": []
  },
  {
   "cell_type": "markdown",
   "metadata": {},
   "source": [
    "Un ejemplo si respuesta:"
   ]
  },
  {
   "cell_type": "code",
   "execution_count": null,
   "metadata": {},
   "outputs": [],
   "source": []
  },
  {
   "cell_type": "markdown",
   "metadata": {},
   "source": [
    "### Ejemplo de reactores:\n",
    "\n",
    "fsolve nos sirve para diferente tipo de problemas, por ejemplo tenemos la siguiente integral. El volumen de un reactor PFR está definido como: $V = \\int_{Fa(V=0)}^{Fa} \\frac{1}{r_a} dFa$ donde $r_a$ es la rapidez de reacción. Supongamos que tenemos un reactor de 100 litros, a la entrada la concentración del reactivo A es de 1 mol/L, el flujo volumetrico es de 10 L/min, y $r_a = -k Ca$ con  $k=0.23$ 1/min.\n",
    "\n",
    "¿Cuál es el flujo molar a la salida?, para ello tenemos que resolver:\n",
    "\n",
    "$$100 = \\int_{Fa(V=0)}^{Fa} \\frac{1}{-k Fa/\\nu} dFa$$\n",
    "\n",
    "Especificamente :\n",
    "\n",
    "\n",
    "$f(Fa) = 100 - \\int_{Fa(V=0)}^{Fa} \\frac{1}{-k Fa/\\nu} dFa$.\n"
   ]
  },
  {
   "cell_type": "code",
   "execution_count": null,
   "metadata": {},
   "outputs": [],
   "source": []
  },
  {
   "cell_type": "markdown",
   "metadata": {},
   "source": [
    "Una forma más sencilla de analizar la función es graficando su comportamiento. \n",
    "\n",
    "Aprendamos algo nuevo de python, las listas por comprensión:"
   ]
  },
  {
   "cell_type": "code",
   "execution_count": null,
   "metadata": {},
   "outputs": [],
   "source": []
  },
  {
   "cell_type": "markdown",
   "metadata": {},
   "source": [
    "Anteriormente nos dimos cuenta que la solución estaba entre 1 y 2"
   ]
  },
  {
   "cell_type": "code",
   "execution_count": null,
   "metadata": {},
   "outputs": [],
   "source": []
  },
  {
   "cell_type": "code",
   "execution_count": null,
   "metadata": {},
   "outputs": [],
   "source": []
  },
  {
   "cell_type": "code",
   "execution_count": null,
   "metadata": {},
   "outputs": [],
   "source": []
  },
  {
   "cell_type": "markdown",
   "metadata": {},
   "source": [
    "## Termodinámica (funciones de estado cúbicas)\n",
    "Resolveremos la función de estado peng-robinson para componente puro y graficaremos el diagrama isotérmico de continuidad de fases (presión-volumen) propuesto por Van der Waals, ocuparemos el metanol para realizar los cálculos (solo se necesita la presión y temperatura críticas y el factor acéntrico)\n",
    "\n",
    "Para Peng-Robinson con la función alfa Peng Robinson 78 tenemos lo siguiente:\n",
    "\n",
    "\n",
    "$$p = \\frac{RT}{v-b}-\\frac{a}{v^2+ubv+wb^2}$$ \n",
    "\n",
    "Donde:\n",
    "\n",
    "$a=\\Omega_a\\frac{(RT_c)^2}{p_c}\\alpha$\n",
    "\n",
    "$b=\\Omega_b\\frac{RT_c}{p_c}$\n",
    "\n",
    "$u =1+\\sqrt{2} $\n",
    "\n",
    "$w=1-\\sqrt{2}$\n",
    "\n",
    "$\\Omega_a = 0.45723553$\n",
    "\n",
    "$\\Omega_b = 0.077796074$\n",
    "\n",
    "Función alfa (Peng-Robinson78):\n",
    "\n",
    "\n",
    "$\\alpha^2 = 1+m*(1-\\sqrt{T_r})$\n",
    "\n",
    "$m = 0.37464 + 1.54226*\\omega - 0.2699  \\omega^2$\n",
    "\n",
    "Para $\\omega > 0.49$\n",
    "\n",
    "$m = 0.379642+1.48503*\\omega-0.164423*\\omega^2+0.016666*\\omega^3$\n",
    "\n",
    "\n"
   ]
  },
  {
   "cell_type": "code",
   "execution_count": null,
   "metadata": {},
   "outputs": [],
   "source": []
  },
  {
   "cell_type": "code",
   "execution_count": null,
   "metadata": {},
   "outputs": [],
   "source": []
  },
  {
   "cell_type": "markdown",
   "metadata": {},
   "source": [
    "#### Ejercicio\n",
    "Ahora tu tarea es crear el diagrama presión-volumen con un intervalo de presion de: (1 a 0.8*presion critica) abrá una zona de tres soluciones. "
   ]
  },
  {
   "cell_type": "code",
   "execution_count": null,
   "metadata": {},
   "outputs": [],
   "source": []
  },
  {
   "cell_type": "code",
   "execution_count": null,
   "metadata": {},
   "outputs": [],
   "source": []
  },
  {
   "cell_type": "code",
   "execution_count": null,
   "metadata": {},
   "outputs": [],
   "source": []
  }
 ],
 "metadata": {
  "kernelspec": {
   "display_name": "Python 3",
   "language": "python",
   "name": "python3"
  },
  "language_info": {
   "codemirror_mode": {
    "name": "ipython",
    "version": 3
   },
   "file_extension": ".py",
   "mimetype": "text/x-python",
   "name": "python",
   "nbconvert_exporter": "python",
   "pygments_lexer": "ipython3",
   "version": "3.7.4"
  }
 },
 "nbformat": 4,
 "nbformat_minor": 2
}
