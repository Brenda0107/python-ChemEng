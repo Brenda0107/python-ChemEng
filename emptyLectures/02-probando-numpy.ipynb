{
 "cells": [
  {
   "cell_type": "markdown",
   "metadata": {},
   "source": [
    "## Concepto de variable:\n",
    "\n",
    "$a = 10$\n",
    "\n",
    "$b = 20$\n",
    "\n",
    "$c = a + b$ \n",
    "\n",
    "¿Cuál es el valor de c?\n",
    "\n",
    "Se pueden editar las celdas de texto ya existentes dando doble click sobre ellas. Una vez que terminemos de editar solamente deberás presionar Ctrl+Enter para volver a renderizar la celda. \n",
    "\n",
    "Se muestra el código para la solución:"
   ]
  },
  {
   "cell_type": "code",
   "execution_count": null,
   "metadata": {},
   "outputs": [],
   "source": []
  },
  {
   "cell_type": "markdown",
   "metadata": {},
   "source": [
    "## Operadores aritméticos\n",
    "| Operadores      | aritméticos |\n",
    "|-----------------|-------------|\n",
    "| Suma            |      +      |\n",
    "| Resta           |      -      |\n",
    "| Multiplicación  |      *      |\n",
    "| División        |      /      |\n",
    "| División entera | //          |\n",
    "| Negación        | -           |\n",
    "| Exponente       | **          |\n",
    "| Módulo          | %           |"
   ]
  },
  {
   "cell_type": "markdown",
   "metadata": {},
   "source": [
    "**División entera**\n",
    "\n",
    "Si dividimos $\\frac{7}{2}$ como resultado tenemos $3.5$\n",
    "\n",
    "Pero cuando hacemos una división entera, el resultado será: $3$"
   ]
  },
  {
   "cell_type": "code",
   "execution_count": null,
   "metadata": {},
   "outputs": [],
   "source": []
  },
  {
   "cell_type": "markdown",
   "metadata": {},
   "source": [
    "Y como residuo tenemos $1$, porque $3 *2 = 6$ nos queda $1$ libre. \n",
    "\n",
    "¿Habrá una forma de saber cuál es el residuo de una división entera?\n",
    "\n",
    "Operador **módulo**\n"
   ]
  },
  {
   "cell_type": "code",
   "execution_count": null,
   "metadata": {},
   "outputs": [],
   "source": []
  },
  {
   "cell_type": "markdown",
   "metadata": {},
   "source": [
    "**Exponente**\n",
    "\n",
    "Crea una celda de código que defina dos variable $x=3$  ,  $y=6$, y después realiza $x^2 + y^2$."
   ]
  },
  {
   "cell_type": "code",
   "execution_count": null,
   "metadata": {},
   "outputs": [],
   "source": []
  },
  {
   "cell_type": "markdown",
   "metadata": {},
   "source": [
    "Podemos incertar nuevas celdas con las siguientes combinaciones:\n",
    "\n",
    "- **Esc + a** Inserta una celda de código arriba (above)\n",
    "- **Esc + b** Inserta una celda de código abajo (below)\n",
    "\n",
    "Es muy importante el orden de ejecución de las celdas "
   ]
  },
  {
   "cell_type": "code",
   "execution_count": null,
   "metadata": {},
   "outputs": [],
   "source": []
  },
  {
   "cell_type": "code",
   "execution_count": null,
   "metadata": {},
   "outputs": [],
   "source": []
  },
  {
   "cell_type": "code",
   "execution_count": null,
   "metadata": {},
   "outputs": [],
   "source": []
  },
  {
   "cell_type": "markdown",
   "metadata": {},
   "source": [
    "## Tipos de datos\n",
    "### Numéricos\n",
    "| Tipos de datos          | numéricos | tipo en python |\n",
    "|-------------------------|-----------|----------------|\n",
    "| Entero                  |     1     | int            |\n",
    "| Punto flotante (reales) |    1.3    | float          |\n",
    "| Complejos               |   1 + 2j  | complex        |\n"
   ]
  },
  {
   "cell_type": "code",
   "execution_count": null,
   "metadata": {},
   "outputs": [],
   "source": []
  },
  {
   "cell_type": "markdown",
   "metadata": {},
   "source": [
    "### Secuencias iterables\n",
    "\n",
    "| Tipos de datos | iterables               | Descripción                            |\n",
    "|----------------|-------------------------|----------------------------------------|\n",
    "| string         |       'Hola Mundo'      | Cadenas de texto                       |\n",
    "| list           | ['manuel','ana','luis'] | listas de datos ordenadas y mutables   |\n",
    "| tuple          |      (1,2,4,3,5,6)      | listas de datos ordenadas e inmutables |"
   ]
  },
  {
   "cell_type": "markdown",
   "metadata": {},
   "source": [
    "Tipo de dato **list**"
   ]
  },
  {
   "cell_type": "code",
   "execution_count": null,
   "metadata": {},
   "outputs": [],
   "source": []
  },
  {
   "cell_type": "markdown",
   "metadata": {},
   "source": [
    "Tipo de dato **tuple**"
   ]
  },
  {
   "cell_type": "code",
   "execution_count": null,
   "metadata": {},
   "outputs": [],
   "source": []
  },
  {
   "cell_type": "markdown",
   "metadata": {},
   "source": [
    "Diferencias entre **list** y **tuple**"
   ]
  },
  {
   "cell_type": "code",
   "execution_count": null,
   "metadata": {},
   "outputs": [],
   "source": []
  },
  {
   "cell_type": "code",
   "execution_count": null,
   "metadata": {},
   "outputs": [],
   "source": []
  },
  {
   "cell_type": "markdown",
   "metadata": {},
   "source": [
    "## Numpy\n",
    "\n",
    "Es una librería muy potente para el manejo de arreglos, matrices multidimensionales.\n",
    "\n",
    "- ``list`` no tiene un buen manejo para los indices cuando se trabajan matrices de mas de dos dimensiones\n",
    "\n",
    "- ``list`` no posee métodos de algebra lineal, ni operaciones definidas\n",
    "\n",
    "Numpy es parte de todo un ecosistema de librerias muy útiles que estaremos viendo durante el curso\n",
    "\n",
    "La forma de importarla es la siguiente, tendremos que hacer esto siempre que queramos trabajar con ella:"
   ]
  },
  {
   "cell_type": "code",
   "execution_count": null,
   "metadata": {},
   "outputs": [],
   "source": []
  },
  {
   "cell_type": "markdown",
   "metadata": {},
   "source": [
    "Para ver la sección de \"help\" ejecuta la siguiente celda"
   ]
  },
  {
   "cell_type": "code",
   "execution_count": null,
   "metadata": {},
   "outputs": [],
   "source": []
  },
  {
   "cell_type": "code",
   "execution_count": null,
   "metadata": {},
   "outputs": [],
   "source": []
  },
  {
   "cell_type": "markdown",
   "metadata": {},
   "source": [
    "## Crear arrays"
   ]
  },
  {
   "cell_type": "code",
   "execution_count": null,
   "metadata": {},
   "outputs": [],
   "source": []
  },
  {
   "cell_type": "code",
   "execution_count": null,
   "metadata": {},
   "outputs": [],
   "source": []
  },
  {
   "cell_type": "code",
   "execution_count": null,
   "metadata": {},
   "outputs": [],
   "source": []
  },
  {
   "cell_type": "code",
   "execution_count": null,
   "metadata": {
    "scrolled": true
   },
   "outputs": [],
   "source": []
  },
  {
   "cell_type": "markdown",
   "metadata": {},
   "source": [
    "<div class=\"alert alert-warning\">\n",
    " np.linspace es una función que permite crear arrays de una dimensión, de largo n, y que contienen puntos entre a y b, distanciados de forma regular. La distancia entre cada punto sera de $(b-a)/(n-1)$.\n",
    "</div> "
   ]
  },
  {
   "cell_type": "code",
   "execution_count": null,
   "metadata": {},
   "outputs": [],
   "source": []
  },
  {
   "cell_type": "markdown",
   "metadata": {},
   "source": [
    "La gran mayoría de las operaciones matemáticas sobre arreglos son del tipo elemento a elemento"
   ]
  },
  {
   "cell_type": "code",
   "execution_count": null,
   "metadata": {},
   "outputs": [],
   "source": []
  },
  {
   "cell_type": "markdown",
   "metadata": {},
   "source": [
    "### Dimensión de un array"
   ]
  },
  {
   "cell_type": "code",
   "execution_count": null,
   "metadata": {},
   "outputs": [],
   "source": []
  },
  {
   "cell_type": "code",
   "execution_count": null,
   "metadata": {},
   "outputs": [],
   "source": []
  },
  {
   "cell_type": "code",
   "execution_count": null,
   "metadata": {},
   "outputs": [],
   "source": []
  },
  {
   "cell_type": "markdown",
   "metadata": {},
   "source": [
    "Podemos definir nuevas variables a partir de operaciones"
   ]
  },
  {
   "cell_type": "code",
   "execution_count": null,
   "metadata": {},
   "outputs": [],
   "source": []
  },
  {
   "cell_type": "code",
   "execution_count": null,
   "metadata": {},
   "outputs": [],
   "source": []
  },
  {
   "cell_type": "code",
   "execution_count": null,
   "metadata": {},
   "outputs": [],
   "source": []
  },
  {
   "cell_type": "markdown",
   "metadata": {},
   "source": [
    "### Operaciones sobre arrays"
   ]
  },
  {
   "cell_type": "code",
   "execution_count": null,
   "metadata": {},
   "outputs": [],
   "source": []
  },
  {
   "cell_type": "markdown",
   "metadata": {},
   "source": [
    "Cuando ocupamos numpy arrays realmente no se ejecuta por ejemplo el operador de suma, sino que se llaman a las ufunc o universal functions, que trabajan sobre los mupy arrays y son muy rápidas. \n",
    "\n",
    "| operador | ufunc |\n",
    "|------|------|\n",
    "|   + | np.add|\n",
    "|-|np.substract|\n",
    "|* |np.multiply|\n",
    "            \n",
    "            "
   ]
  },
  {
   "cell_type": "code",
   "execution_count": null,
   "metadata": {},
   "outputs": [],
   "source": [
    "# otras funciones interesantes\n",
    "a = np.arange(4)\n",
    "b = np.arange(1,5)\n",
    "\n",
    "print(np.exp(a)) # exponencial\n",
    "print(np.log(b)) # logaritmo natural\n",
    "print(np.log10(b))\n",
    "print(np.sqrt(a)) # raiz cuadrada\n",
    "print(np.greater(b,a)) # mayor o igual evaluado elemento a elemento"
   ]
  },
  {
   "cell_type": "code",
   "execution_count": null,
   "metadata": {},
   "outputs": [],
   "source": []
  },
  {
   "cell_type": "code",
   "execution_count": null,
   "metadata": {},
   "outputs": [],
   "source": []
  },
  {
   "cell_type": "markdown",
   "metadata": {},
   "source": [
    "## Rendimiento\n",
    "\n",
    "Podrás preguntarte que pasa si por mi cuenta hago los algoritmos para que se ejecuten estas operaciones con tipos de datos nativos de python, que son las listas.\n",
    "\n",
    "Por un lado las ufuncs corren a velocidad de un programa compilado en C, es decir muy rápido.\n",
    "Al implementar las funciones deberíamos de usar los for loops.\n",
    "Si ya están programadas y corren en C, la ventaja es muy grande. \n",
    "Un código Numpy con solamente funciones nativas, sin bucles, se le llama código vectorizado."
   ]
  },
  {
   "cell_type": "code",
   "execution_count": null,
   "metadata": {},
   "outputs": [],
   "source": []
  },
  {
   "cell_type": "code",
   "execution_count": null,
   "metadata": {},
   "outputs": [],
   "source": []
  },
  {
   "cell_type": "code",
   "execution_count": null,
   "metadata": {},
   "outputs": [],
   "source": []
  },
  {
   "cell_type": "code",
   "execution_count": null,
   "metadata": {},
   "outputs": [],
   "source": []
  },
  {
   "cell_type": "markdown",
   "metadata": {},
   "source": [
    "# Funciones\n",
    "\n",
    "Las funciones son utilizadas en cualquier lenguaje de programación, nos permiten reutilizar código, hacen que los programas sean más legibles. \n",
    "\n",
    "## Cómo definir una función\n",
    "\n",
    "Se definen con la palbra reservada `def`, se debe especificar un nombre y los argumentos que reciben dentro de parentesis y terminar con el caracter de dos puntos `:`. \n",
    "\n",
    "El cuerpo de la función debe estar identado, normalmente con un tabulador (4 espacios), para terminar la función debemos de salir de la sangría de tabulador. Se debe especificar el valor de retorno de la función con la palabra reservada `return`\n",
    "\n",
    "Ejemplo de una función que multiplica por dos el valor dado y lo regresa:"
   ]
  },
  {
   "cell_type": "code",
   "execution_count": null,
   "metadata": {},
   "outputs": [],
   "source": []
  },
  {
   "cell_type": "markdown",
   "metadata": {},
   "source": [
    "Ahora evaluemos la función con diferentes parámetros:"
   ]
  },
  {
   "cell_type": "code",
   "execution_count": null,
   "metadata": {},
   "outputs": [],
   "source": []
  },
  {
   "cell_type": "markdown",
   "metadata": {},
   "source": [
    "Siempre es bueno añadir documentación a nuestra función, lo haremos de la siguiente forma:"
   ]
  },
  {
   "cell_type": "code",
   "execution_count": null,
   "metadata": {},
   "outputs": [],
   "source": []
  },
  {
   "cell_type": "code",
   "execution_count": null,
   "metadata": {},
   "outputs": [],
   "source": []
  },
  {
   "cell_type": "code",
   "execution_count": null,
   "metadata": {},
   "outputs": [],
   "source": []
  },
  {
   "cell_type": "code",
   "execution_count": null,
   "metadata": {},
   "outputs": [],
   "source": []
  },
  {
   "cell_type": "markdown",
   "metadata": {},
   "source": [
    "### Funciones con múltiples argumentos\n",
    "\n",
    "Que pasa si nuestra función debe recibir opcionalmente más parámetros, por ejemplo una función que reciba dos parámetros, $p$ y $q$, donde $q$ tiene el valor por default de 4. "
   ]
  },
  {
   "cell_type": "code",
   "execution_count": null,
   "metadata": {},
   "outputs": [],
   "source": []
  },
  {
   "cell_type": "markdown",
   "metadata": {},
   "source": [
    "Evaluemos la función con diferentes parámetros"
   ]
  },
  {
   "cell_type": "code",
   "execution_count": null,
   "metadata": {},
   "outputs": [],
   "source": []
  },
  {
   "cell_type": "markdown",
   "metadata": {},
   "source": [
    "En la siguiente celda evaluamos la función con los parámetros $p=4$ y $q=10$ definidos"
   ]
  },
  {
   "cell_type": "code",
   "execution_count": null,
   "metadata": {},
   "outputs": [],
   "source": []
  },
  {
   "cell_type": "code",
   "execution_count": null,
   "metadata": {},
   "outputs": [],
   "source": []
  },
  {
   "cell_type": "code",
   "execution_count": null,
   "metadata": {},
   "outputs": [],
   "source": []
  },
  {
   "cell_type": "markdown",
   "metadata": {},
   "source": [
    "Podemos ser muy específicos a la hora de definir los variables que tienen un valor por default"
   ]
  },
  {
   "cell_type": "code",
   "execution_count": null,
   "metadata": {},
   "outputs": [],
   "source": []
  },
  {
   "cell_type": "markdown",
   "metadata": {},
   "source": [
    "Pero debemos tener cuidado con las variables que no tienen valor por default, ya que éstas adquieren su valor poscicionalmente, es decir, se asigna su valor en función de la posición que tiene en la definición de la función, ejemplo:"
   ]
  },
  {
   "cell_type": "code",
   "execution_count": null,
   "metadata": {},
   "outputs": [],
   "source": []
  },
  {
   "cell_type": "markdown",
   "metadata": {},
   "source": [
    "A menos que definamos ambas variables explícitamente:"
   ]
  },
  {
   "cell_type": "code",
   "execution_count": null,
   "metadata": {},
   "outputs": [],
   "source": []
  },
  {
   "cell_type": "markdown",
   "metadata": {},
   "source": [
    "### Alcance de las variables\n",
    "\n",
    "El alcance de las variables hace referencia a el lugar (en el código)  donde la variable fue definida y el valor que posee en ese momento. En el siguiente ejemplo evidenciaremos la importancia del nombramiento de variables, definición correcta de funciones. Ejemplificaremos con la variable `a`"
   ]
  },
  {
   "cell_type": "code",
   "execution_count": null,
   "metadata": {},
   "outputs": [],
   "source": []
  },
  {
   "cell_type": "code",
   "execution_count": null,
   "metadata": {},
   "outputs": [],
   "source": []
  },
  {
   "cell_type": "markdown",
   "metadata": {},
   "source": [
    "Podemos asignar el valor de la variable `a` de forma local dentro de una función sin afectar el valor global de la otra variable `a`"
   ]
  },
  {
   "cell_type": "code",
   "execution_count": null,
   "metadata": {},
   "outputs": [],
   "source": []
  },
  {
   "cell_type": "code",
   "execution_count": null,
   "metadata": {},
   "outputs": [],
   "source": []
  },
  {
   "cell_type": "markdown",
   "metadata": {},
   "source": [
    "El valor de la variable `a` no ha cambiado"
   ]
  },
  {
   "cell_type": "code",
   "execution_count": null,
   "metadata": {},
   "outputs": [],
   "source": []
  },
  {
   "cell_type": "markdown",
   "metadata": {},
   "source": [
    "## Cadenas de texto \n",
    "\n",
    "Ocuparemos muchas veces la función $print$, veamos que podemos hacer con ella."
   ]
  },
  {
   "cell_type": "code",
   "execution_count": null,
   "metadata": {},
   "outputs": [],
   "source": []
  },
  {
   "cell_type": "code",
   "execution_count": null,
   "metadata": {},
   "outputs": [],
   "source": []
  },
  {
   "cell_type": "markdown",
   "metadata": {},
   "source": [
    "En este ejemplo ocupamos las cadenas con formato, con f'...', aquí los elementos que se encuentran entre llaves {} serán reemplazados con el valor de las variables. \n",
    "\n",
    "Nosotros a lo que aplicaremos el formato será a los números decimales, porque si lo imprimimos sin formato se mostrarán todos los decimales, ejemplo:"
   ]
  },
  {
   "cell_type": "code",
   "execution_count": null,
   "metadata": {},
   "outputs": [],
   "source": []
  },
  {
   "cell_type": "markdown",
   "metadata": {},
   "source": [
    "Asi que daremos formato acotando los decimales que mostraremos."
   ]
  },
  {
   "cell_type": "code",
   "execution_count": null,
   "metadata": {},
   "outputs": [],
   "source": []
  },
  {
   "cell_type": "markdown",
   "metadata": {},
   "source": [
    "La sintáxis es {variable:separación.decimalesf}, hay diferentes opciones, dejo el link a la documentación [aquí](https://docs.python.org/3.6/library/string.html#format-specification-mini-language).\n",
    " "
   ]
  },
  {
   "cell_type": "markdown",
   "metadata": {},
   "source": [
    "## Resumen\n",
    "\n",
    "En este punto hemos estudiado lo siguiente:\n",
    "- Markdown\n",
    "- Ejecutar celdas de código   \n",
    "- Crear Numpy arrays\n",
    "- Definir funciones con argumentos\n",
    "- Imprimir cadenas de texto con las varibles deseadas. \n",
    "\n",
    "La siguiente sesión:\n",
    "\n",
    "Empezaremos a usar funciones para resolver integrales y ecuaciones diferenciales. "
   ]
  }
 ],
 "metadata": {
  "kernelspec": {
   "display_name": "Python 3",
   "language": "python",
   "name": "python3"
  },
  "language_info": {
   "codemirror_mode": {
    "name": "ipython",
    "version": 3
   },
   "file_extension": ".py",
   "mimetype": "text/x-python",
   "name": "python",
   "nbconvert_exporter": "python",
   "pygments_lexer": "ipython3",
   "version": "3.7.6"
  }
 },
 "nbformat": 4,
 "nbformat_minor": 4
}
