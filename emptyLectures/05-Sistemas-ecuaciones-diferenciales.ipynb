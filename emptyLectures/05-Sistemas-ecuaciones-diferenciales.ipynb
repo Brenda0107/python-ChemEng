{
 "cells": [
  {
   "cell_type": "markdown",
   "metadata": {},
   "source": [
    "## Sistemas de ecuaciones diferenciales de primer orden\n",
    "\n",
    "Muchos sistemas de ingeniería son estudiados por medio de ecuaciones diferenciales acopladas. Esto normalmente significa que hay dos o más variables independientes, y el cambio en la variable dependiente depende de dos o más variables independientes. \n",
    "\n",
    "Consideremos un problema de mezclado en tanques.\n",
    "\n",
    "Tenemos dos tanques:\n",
    "- Tanque A contiene 30 litros con 550 gramos de sal disuelta\n",
    "- Tanque B contiene 20 litros con 260 gramos de sal disuelta\n",
    "\n",
    "Adicionalmente:\n",
    "\n",
    "- Entra una corriente al tanque A con una concentración de 10 g/L y un flujo de 1.5L/min\n",
    "- Entra una corriente al tanque B con una concentración de 30 g/L y un flujo de 1L/min\n",
    "- Existe una corriente del tanque A al B de 3L/min\n",
    "- Existe una corriente del tanque B al A de 1.5 L/min\n",
    "- La corriente de salida se encuentra en el tanque B con un flujo de 2.5L/min\n",
    "\n",
    "Tu tarea es graficar la concentración de sal en el tanque A y B en función del tiempo. \n",
    "\n",
    "Empieza con las siguientes definiciones:"
   ]
  },
  {
   "cell_type": "code",
   "execution_count": null,
   "metadata": {},
   "outputs": [],
   "source": []
  },
  {
   "cell_type": "markdown",
   "metadata": {},
   "source": [
    "Ahora definamos los flujos de los tanques y veamos el balance general:"
   ]
  },
  {
   "cell_type": "code",
   "execution_count": null,
   "metadata": {},
   "outputs": [],
   "source": []
  },
  {
   "cell_type": "markdown",
   "metadata": {},
   "source": [
    "Perfecto no tenemos que preocuparnos por el cambio en volumen dentro de los tanques.\n",
    "\n",
    "Entonces veamos las ecuaciones que establecen el cambio de la concentración en cada tanque, $S_A(t)$ y $S_B(t)$ representa la concentración en $\\frac{gramos}{litro}$, a lo largo del tiempo tenemos:\n",
    "\n",
    "$\\frac{\\delta S_A}{\\delta t} = \\frac{1}{V_A}(f_A C_A - f_{AB} S_A(t) + f_{BA} S_B(t))$\n",
    "\n",
    "Y\n",
    "\n",
    "$\\frac{dS_B}{dt} = \\frac{1}{V_B}(f_B C_B + f_{AB} S_A(t) - f_{BA} S_B(t) - f_{Bout} S_B(t))$"
   ]
  },
  {
   "cell_type": "code",
   "execution_count": null,
   "metadata": {},
   "outputs": [],
   "source": []
  },
  {
   "cell_type": "code",
   "execution_count": null,
   "metadata": {},
   "outputs": [],
   "source": []
  },
  {
   "cell_type": "code",
   "execution_count": null,
   "metadata": {},
   "outputs": [],
   "source": []
  },
  {
   "cell_type": "code",
   "execution_count": null,
   "metadata": {},
   "outputs": [],
   "source": []
  },
  {
   "cell_type": "markdown",
   "metadata": {},
   "source": [
    "## Ejercicio Reactores\n",
    "\n",
    "NO OLVIDE DESCARGAR LAS IMÁGENES DEL ESQUEMA DE REACCIONES Y LA TABLA DE CONSTANTES\n",
    "[Link a repo](https://github.com/luis-zepeda/python-ChemEng/tree/master/emptyLectures)\n",
    "\n",
    "Sánchez, Rodríguez y Ancheyta (2005) desarrollaron un modelo de 5 lumps (ver Figura) para la hidrodesintegración de crudo Maya. La hidrodesintegración se llevó a cabo en una planta piloto con un reactor de lecho fijo, utilizando NiMo/γ-Al2O3, a una temperatura de reacción de 380-420°C, 0.33-1.5 h-1 de LHSV, 890 m3/m3 de relación H2/aceite y 6.9MPa de presión. Los 5 lumps considerados son residuos (>538°C), gasóleo de vacío (343-538°C), destilados intermedios (204-343°C), nafta (IBP-204) y gases. El modelo consta de cinéticas de primer orden para cada reacción de la figura e incluye 10 parámetros cinéticos los cuales están presentados en la tabla. La cinética para cada reacción individual se puede escribir como: \n",
    "\n",
    "$r_i = k_iy_i$\n",
    "\n",
    "Donde $r_i$ es la rapidez de reacción i-ésima en %peso/hr, $k_i$ es la constante cinética para la reacción i-ésima en h-1,(ver Tabla),  $y_j$ es el porcentaje de masa del reactivo j.\n",
    "\n",
    "![esquema-reacciones.jpg](esquema-reacciones.jpg)\n",
    "\n",
    "Si se opera en forma isotérmica a 400°C, una presión de 6.9 MPa, el diámetro del reactor es de 3.5 m, y con un LHSV de 1 h-1 (medido a 15.15°C), obtener la distribución de concentraciones $(y_j)$ y de conversión de residuos a lo largo de un reactor PFR. La conversión del residuo se define como: \n",
    "\n",
    "$X_R=\\frac{Flujo másico del Residuo en la alimentación - Flujo másico del Residuo}{Flujo másico del Residuo en la alimentación}$\n",
    "\n",
    "Las ecuaciones de balance de materia pueden ser escritas como: \n",
    "\n",
    "$\\frac{d y_i}{dV} = \\frac{1}{v_0} R_i$\n",
    "\n",
    "Donde $v_0$ es el flujo volumétrico del crudo al inicio del reactor, $R_i$ es la rapidez de reacción neta del componente i en %peso/hr. Se requiere procesar 21,000 BPD de crudo con una gravedad API de 21.79 a 15.15°C, la cual se define como: \n",
    "\n",
    "$API = \\frac{141.5}{SG} - 131.5$\n",
    "\n",
    "Donde $SG$ es la densidad relativa del crudo a 15.15°C con respecto a la del agua a 15.15°C (1.00341 g/cm3). La densidad del crudo a 400°C es de 0.715 g/cm3. \n",
    "\n",
    "Información adicional:\n",
    "\n",
    "![tablas.jpg](tablas.jpg)"
   ]
  },
  {
   "cell_type": "markdown",
   "metadata": {},
   "source": [
    "Les ayudo definiendo la rapidez de reacción neta de cada reactivo-producto\n",
    "\n",
    "1. Residuos:   \n",
    "\n",
    "$R_{total}^{res} = -r_{R1} -r_{R2}-r_{R3}-r_{R4}$\n",
    "\n",
    "2. VGO: \n",
    "\n",
    "$R_{total}^{VGO} = r_{R1} -r_{R5}-r_{R6}-r_{R7}$\n",
    "\n",
    "3. Destilables: \n",
    "\n",
    "$R_{total}^{des} = r_{R2}+r_{R5}-r_{R8}-r_{R9}$\n",
    "\n",
    "4. Naftas: \n",
    "\n",
    "$R_{total}^{naf} = r_{R3}+r_{R6}+r_{R8}-r_{R10}$\n",
    "\n",
    "5. Gases: \n",
    "\n",
    "$R_{total}^{gas} = r_{R4}+r_{R7}+r_{R9}+r_{R10}$"
   ]
  },
  {
   "cell_type": "code",
   "execution_count": null,
   "metadata": {},
   "outputs": [],
   "source": []
  },
  {
   "cell_type": "code",
   "execution_count": null,
   "metadata": {},
   "outputs": [],
   "source": []
  },
  {
   "cell_type": "code",
   "execution_count": null,
   "metadata": {},
   "outputs": [],
   "source": []
  },
  {
   "cell_type": "code",
   "execution_count": null,
   "metadata": {},
   "outputs": [],
   "source": []
  }
 ],
 "metadata": {
  "kernelspec": {
   "display_name": "Python 3",
   "language": "python",
   "name": "python3"
  },
  "language_info": {
   "codemirror_mode": {
    "name": "ipython",
    "version": 3
   },
   "file_extension": ".py",
   "mimetype": "text/x-python",
   "name": "python",
   "nbconvert_exporter": "python",
   "pygments_lexer": "ipython3",
   "version": "3.7.6"
  }
 },
 "nbformat": 4,
 "nbformat_minor": 4
}
